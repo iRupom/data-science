{
    "cells": [
        {
            "cell_type": "markdown",
            "metadata": {
                "collapsed": true
            },
            "source": "My Jupyter Notebook on IBM Watson Studio"
        },
        {
            "cell_type": "markdown",
            "metadata": {},
            "source": "**My name is Rakib Talukder Rupom**\n**I want to become a software engineer**"
        },
        {
            "cell_type": "markdown",
            "metadata": {},
            "source": "*My country Bangladesh is a very poor country. But resources are limited to my country. So data driven decision will help to solve unwanted resource waste in my country. So I want to know data science to help govenments and other private firm to utilize the limited resource properly.*"
        },
        {
            "cell_type": "markdown",
            "metadata": {},
            "source": "### This is going to be a third type header tag like html"
        },
        {
            "cell_type": "code",
            "execution_count": 5,
            "metadata": {},
            "outputs": [
                {
                    "name": "stdout",
                    "output_type": "stream",
                    "text": "2\n"
                }
            ],
            "source": "print(1+1)"
        },
        {
            "cell_type": "markdown",
            "metadata": {},
            "source": "- My name is Rakib\n- My school is B.L. Govt. High School\n- My college is Notre Dame College\n\n1. My father is teacher\n2. My mother is a housewife\n3. I love my counutry\n\n![Python logo](https://images.unsplash.com/photo-1649180556628-9ba704115795?ixlib=rb-4.0.3&ixid=MnwxMjA3fDB8MHxwaG90by1wYWdlfHx8fGVufDB8fHx8&auto=format&fit=crop&w=1162&q=80)"
        }
    ],
    "metadata": {
        "kernelspec": {
            "display_name": "Python 3.9",
            "language": "python",
            "name": "python3"
        },
        "language_info": {
            "codemirror_mode": {
                "name": "ipython",
                "version": 3
            },
            "file_extension": ".py",
            "mimetype": "text/x-python",
            "name": "python",
            "nbconvert_exporter": "python",
            "pygments_lexer": "ipython3",
            "version": "3.9.12"
        }
    },
    "nbformat": 4,
    "nbformat_minor": 1
}